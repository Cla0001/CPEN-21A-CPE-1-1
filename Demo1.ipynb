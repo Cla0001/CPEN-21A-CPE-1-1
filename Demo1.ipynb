{
  "nbformat": 4,
  "nbformat_minor": 0,
  "metadata": {
    "colab": {
      "name": "Demo1.ipynb",
      "provenance": [],
      "authorship_tag": "ABX9TyN/a8GKMlZUwGm/+C1wm3mx",
      "include_colab_link": true
    },
    "kernelspec": {
      "name": "python3",
      "display_name": "Python 3"
    },
    "language_info": {
      "name": "python"
    }
  },
  "cells": [
    {
      "cell_type": "markdown",
      "metadata": {
        "id": "view-in-github",
        "colab_type": "text"
      },
      "source": [
        "<a href=\"https://colab.research.google.com/github/Cla0001/CPEN-21A-CPE-1-1/blob/main/Demo1.ipynb\" target=\"_parent\"><img src=\"https://colab.research.google.com/assets/colab-badge.svg\" alt=\"Open In Colab\"/></a>"
      ]
    },
    {
      "cell_type": "markdown",
      "metadata": {
        "id": "jpauVGTutvm2"
      },
      "source": [
        "### Introduction to Python Programing"
      ]
    },
    {
      "cell_type": "code",
      "metadata": {
        "colab": {
          "base_uri": "https://localhost:8080/"
        },
        "id": "dwuk9LOKt4Fs",
        "outputId": "fa3a8b3d-ba35-427b-ff10-f8bfead1de2b"
      },
      "source": [
        "b = \"Sally\"\n",
        "print(type(b))"
      ],
      "execution_count": 1,
      "outputs": [
        {
          "output_type": "stream",
          "name": "stdout",
          "text": [
            "<class 'str'>\n"
          ]
        }
      ]
    },
    {
      "cell_type": "markdown",
      "metadata": {
        "id": "7MB8x8hVuC6e"
      },
      "source": [
        "### Naming Variables"
      ]
    },
    {
      "cell_type": "code",
      "metadata": {
        "colab": {
          "base_uri": "https://localhost:8080/"
        },
        "id": "TI_uOiH-uHHe",
        "outputId": "3d7a25b0-ee42-4216-90bc-4be534c37316"
      },
      "source": [
        "a = 'Sally'\n",
        "A = \"John\"\n",
        "print(a)\n",
        "print(A)"
      ],
      "execution_count": 2,
      "outputs": [
        {
          "output_type": "stream",
          "name": "stdout",
          "text": [
            "Sally\n",
            "John\n"
          ]
        }
      ]
    },
    {
      "cell_type": "code",
      "metadata": {
        "colab": {
          "base_uri": "https://localhost:8080/"
        },
        "id": "e81CoZnZuWVO",
        "outputId": "b74f4ce2-659f-49e3-c329-e23a16f6a1ae"
      },
      "source": [
        "a, b, c = 0, 1, 2\n",
        "print(type(a))  #This is programming using type function\n",
        "print(b)\n",
        "print(c)"
      ],
      "execution_count": 3,
      "outputs": [
        {
          "output_type": "stream",
          "name": "stdout",
          "text": [
            "<class 'int'>\n",
            "1\n",
            "2\n"
          ]
        }
      ]
    },
    {
      "cell_type": "code",
      "metadata": {
        "colab": {
          "base_uri": "https://localhost:8080/"
        },
        "id": "-95FrS9SurrG",
        "outputId": "5c200cac-66cf-429a-a7a8-df78a263450b"
      },
      "source": [
        "a = 4.50\n",
        "print(type(a))"
      ],
      "execution_count": 4,
      "outputs": [
        {
          "output_type": "stream",
          "name": "stdout",
          "text": [
            "<class 'float'>\n"
          ]
        }
      ]
    },
    {
      "cell_type": "markdown",
      "metadata": {
        "id": "qKtqIscdux6l"
      },
      "source": [
        "### One Value to Multiple Variables"
      ]
    },
    {
      "cell_type": "code",
      "metadata": {
        "colab": {
          "base_uri": "https://localhost:8080/"
        },
        "id": "jqTepyh5u2XW",
        "outputId": "b88a2278-f14e-4ccf-fed9-109f1964f528"
      },
      "source": [
        "x = y = z = \"four\"\n",
        "print(x)\n",
        "print(y)\n",
        "print(z)"
      ],
      "execution_count": 5,
      "outputs": [
        {
          "output_type": "stream",
          "name": "stdout",
          "text": [
            "four\n",
            "four\n",
            "four\n"
          ]
        }
      ]
    },
    {
      "cell_type": "code",
      "metadata": {
        "colab": {
          "base_uri": "https://localhost:8080/"
        },
        "id": "BmaVmHzDvDyW",
        "outputId": "4f49d845-9dbe-442d-886f-a3e20d6651a6"
      },
      "source": [
        "x = \"enjoying\"\n",
        "print(\"Python programing is\" + \" \" + x)"
      ],
      "execution_count": 6,
      "outputs": [
        {
          "output_type": "stream",
          "name": "stdout",
          "text": [
            "Python programing is enjoying\n"
          ]
        }
      ]
    },
    {
      "cell_type": "code",
      "metadata": {
        "colab": {
          "base_uri": "https://localhost:8080/"
        },
        "id": "3jFIMjs7vUW-",
        "outputId": "f06d034c-0481-480e-c029-a9c3a5473cc2"
      },
      "source": [
        "x = 4\n",
        "y = 5\n",
        "print(x+y)\n",
        "print(x-y)"
      ],
      "execution_count": 7,
      "outputs": [
        {
          "output_type": "stream",
          "name": "stdout",
          "text": [
            "9\n",
            "-1\n"
          ]
        }
      ]
    },
    {
      "cell_type": "code",
      "metadata": {
        "colab": {
          "base_uri": "https://localhost:8080/"
        },
        "id": "eWjOaGxtveal",
        "outputId": "5006478c-4daf-4b9e-9347-84f2ad19b777"
      },
      "source": [
        "not(x>y or x==x)  #This is an example of program using logical operator\n"
      ],
      "execution_count": 8,
      "outputs": [
        {
          "output_type": "execute_result",
          "data": {
            "text/plain": [
              "False"
            ]
          },
          "metadata": {},
          "execution_count": 8
        }
      ]
    }
  ]
}