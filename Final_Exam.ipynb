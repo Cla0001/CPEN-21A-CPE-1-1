{
  "nbformat": 4,
  "nbformat_minor": 0,
  "metadata": {
    "colab": {
      "name": "Final Exam.ipynb",
      "provenance": [],
      "authorship_tag": "ABX9TyPGhJM1zdlqUd36SHNELKVc",
      "include_colab_link": true
    },
    "kernelspec": {
      "name": "python3",
      "display_name": "Python 3"
    },
    "language_info": {
      "name": "python"
    }
  },
  "cells": [
    {
      "cell_type": "markdown",
      "metadata": {
        "id": "view-in-github",
        "colab_type": "text"
      },
      "source": [
        "<a href=\"https://colab.research.google.com/github/Cla0001/CPEN-21A-CPE-1-1/blob/main/Final_Exam.ipynb\" target=\"_parent\"><img src=\"https://colab.research.google.com/assets/colab-badge.svg\" alt=\"Open In Colab\"/></a>"
      ]
    },
    {
      "cell_type": "markdown",
      "source": [
        "##Problem Statement #1: Create a Python Program that will produce an output of sum of 10 numbers less than 5 using FOR LOOP statement"
      ],
      "metadata": {
        "id": "k6XSl-nr_KrC"
      }
    },
    {
      "cell_type": "code",
      "source": [
        "sum = 0\n",
        "num = [-5, -4, -3, -2, -1, 0, 1, 2, 3, 4]\n",
        "for x in (num):\n",
        "  sum = sum + x\n",
        "print (\"The sum of 10 numbers less than five is\", sum)"
      ],
      "metadata": {
        "colab": {
          "base_uri": "https://localhost:8080/"
        },
        "id": "NUCwrPAB_jB8",
        "outputId": "2afb1f61-0d4e-48fb-c049-eb47eb1b1dfa"
      },
      "execution_count": 15,
      "outputs": [
        {
          "output_type": "stream",
          "name": "stdout",
          "text": [
            "The sum of 10 numbers less than five is -5\n"
          ]
        }
      ]
    },
    {
      "cell_type": "markdown",
      "source": [
        "##Problem Statement #2: Create a Python program that will produce accept five numbers and determine the sum of first and last number among the five numbers entered using WHILE LOOP"
      ],
      "metadata": {
        "id": "uB12BLbHCwUp"
      }
    },
    {
      "cell_type": "code",
      "source": [
        "num = int(input(\"1st number: \"))\n",
        "while (num !=0):\n",
        "  f = int(input(\"2nd number: \"))\n",
        "  i = int(input(\"3rd number: \"))\n",
        "  l = int(input(\"4th number: \"))\n",
        "  e = int(input(\"5th number: \"))\n",
        "  break\n",
        "  x = e\n",
        "while (x!=0):\n",
        "  x = num + e\n",
        "  print(\"The some of first and last number is\", x)\n",
        "  num -=1\n",
        "  break\n",
        "\n"
      ],
      "metadata": {
        "colab": {
          "base_uri": "https://localhost:8080/"
        },
        "id": "t7nAsjd6DTvI",
        "outputId": "3431a395-c6a3-4ca4-d1ee-2dae623d70bd"
      },
      "execution_count": 12,
      "outputs": [
        {
          "output_type": "stream",
          "name": "stdout",
          "text": [
            "1st number: 5\n",
            "2nd number: 5\n",
            "3rd number: 5\n",
            "4th number: 5\n",
            "5th number: 5\n",
            "The some of first and last number is 10\n"
          ]
        }
      ]
    },
    {
      "cell_type": "markdown",
      "source": [
        "##Problem Statement #3: Create a Python program to calculate student grades. It accepts a numerical grade as input and it will display the character grade as output based on the given scale"
      ],
      "metadata": {
        "id": "P_yZceIVL-nY"
      }
    },
    {
      "cell_type": "code",
      "source": [
        "grade = int(input(\"Enter grade: \"))\n",
        "if grade >=90:\n",
        "  print(\"character Grade A\")\n",
        "elif grade <=89 and grade >80:\n",
        "  print(\"character Grade B\")\n",
        "elif grade <=79 and grade >70:\n",
        "  print(\"character Grade C\")\n",
        "elif grade <=69 and grade >60:\n",
        "  print(\"character Grade D\")\n",
        "else:\n",
        "  print(\"character Grade F\") "
      ],
      "metadata": {
        "colab": {
          "base_uri": "https://localhost:8080/"
        },
        "id": "cP7InAwcNvyS",
        "outputId": "468c9d20-f059-46f8-b4d6-127fde01d5fc"
      },
      "execution_count": 14,
      "outputs": [
        {
          "output_type": "stream",
          "name": "stdout",
          "text": [
            "Enter grade: 75\n",
            "character Grade C\n"
          ]
        }
      ]
    }
  ]
}