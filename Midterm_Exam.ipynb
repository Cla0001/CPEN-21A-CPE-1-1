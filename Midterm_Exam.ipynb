{
  "nbformat": 4,
  "nbformat_minor": 0,
  "metadata": {
    "colab": {
      "name": "Midterm Exam.ipynb",
      "provenance": [],
      "authorship_tag": "ABX9TyMi/GX6/avyAVHUn9MXigX1",
      "include_colab_link": true
    },
    "kernelspec": {
      "name": "python3",
      "display_name": "Python 3"
    },
    "language_info": {
      "name": "python"
    }
  },
  "cells": [
    {
      "cell_type": "markdown",
      "metadata": {
        "id": "view-in-github",
        "colab_type": "text"
      },
      "source": [
        "<a href=\"https://colab.research.google.com/github/Cla0001/CPEN-21A-CPE-1-1/blob/main/Midterm_Exam.ipynb\" target=\"_parent\"><img src=\"https://colab.research.google.com/assets/colab-badge.svg\" alt=\"Open In Colab\"/></a>"
      ]
    },
    {
      "cell_type": "markdown",
      "metadata": {
        "id": "GKtJFC_UjHtJ"
      },
      "source": [
        "## Problem Statement 1"
      ]
    },
    {
      "cell_type": "code",
      "metadata": {
        "colab": {
          "base_uri": "https://localhost:8080/"
        },
        "id": "444againjK6F",
        "outputId": "2260f452-0490-4fb1-f738-604279e08e2d"
      },
      "source": [
        "name = \"Clarence Deniel M. Navarrete\"\n",
        "print(name)"
      ],
      "execution_count": 1,
      "outputs": [
        {
          "output_type": "stream",
          "name": "stdout",
          "text": [
            "Clarence Deniel M. Navarrete\n"
          ]
        }
      ]
    },
    {
      "cell_type": "code",
      "metadata": {
        "colab": {
          "base_uri": "https://localhost:8080/"
        },
        "id": "_8P__wi8jfc7",
        "outputId": "44649e8c-c92f-4c55-a983-c85913f415bd"
      },
      "source": [
        "SN = 202101695\n",
        "print(SN)\n"
      ],
      "execution_count": 9,
      "outputs": [
        {
          "output_type": "stream",
          "name": "stdout",
          "text": [
            "202101695\n"
          ]
        }
      ]
    },
    {
      "cell_type": "code",
      "metadata": {
        "colab": {
          "base_uri": "https://localhost:8080/"
        },
        "id": "lXk2bPurlwYs",
        "outputId": "3fea7620-4e43-4417-d5c4-459255ab7974"
      },
      "source": [
        "age = 20\n",
        "print(age)"
      ],
      "execution_count": 10,
      "outputs": [
        {
          "output_type": "stream",
          "name": "stdout",
          "text": [
            "20\n"
          ]
        }
      ]
    },
    {
      "cell_type": "code",
      "metadata": {
        "colab": {
          "base_uri": "https://localhost:8080/"
        },
        "id": "W12QgA51l7br",
        "outputId": "7b324848-bef9-4683-84b5-500d7cbf37d2"
      },
      "source": [
        "birthday = \"October\",27,2001\n",
        "print(birthday)"
      ],
      "execution_count": 21,
      "outputs": [
        {
          "output_type": "stream",
          "name": "stdout",
          "text": [
            "('October', 27, 2001)\n"
          ]
        }
      ]
    },
    {
      "cell_type": "code",
      "metadata": {
        "colab": {
          "base_uri": "https://localhost:8080/"
        },
        "id": "6kqYhOxnnkaG",
        "outputId": "554faaf9-8d97-4107-e6fd-f2ba0779d2ff"
      },
      "source": [
        "brgy = \"SanJuan I,\"\n",
        "mun = \"Noveleta,\"\n",
        "prov = \"Cavite\"\n",
        "print(brgy+mun+prov)"
      ],
      "execution_count": 25,
      "outputs": [
        {
          "output_type": "stream",
          "name": "stdout",
          "text": [
            "SanJuan I,Noveleta,Cavite\n"
          ]
        }
      ]
    },
    {
      "cell_type": "code",
      "metadata": {
        "colab": {
          "base_uri": "https://localhost:8080/"
        },
        "id": "RzClDJxUoefa",
        "outputId": "6939d9ca-a259-4c48-9861-abfc320247fc"
      },
      "source": [
        "a = \"Bachelor \"\n",
        "b = \"of \"\n",
        "c = \"Science \"\n",
        "d = \"in \"\n",
        "e = \"Computer \"\n",
        "f = \"Engineering\"\n",
        "print(a+b+c+d+e+f)"
      ],
      "execution_count": 33,
      "outputs": [
        {
          "output_type": "stream",
          "name": "stdout",
          "text": [
            "Bachelor of Science in Computer Engineering\n"
          ]
        }
      ]
    },
    {
      "cell_type": "code",
      "metadata": {
        "colab": {
          "base_uri": "https://localhost:8080/"
        },
        "id": "JDou4bvyp7gk",
        "outputId": "1ef936ac-8da0-452a-91be-860e9514a017"
      },
      "source": [
        "GWA = 95\n",
        "print(GWA)"
      ],
      "execution_count": 34,
      "outputs": [
        {
          "output_type": "stream",
          "name": "stdout",
          "text": [
            "95\n"
          ]
        }
      ]
    },
    {
      "cell_type": "markdown",
      "metadata": {
        "id": "PaMcB8PtqMX7"
      },
      "source": [
        "## Problem Statement 2"
      ]
    },
    {
      "cell_type": "code",
      "metadata": {
        "colab": {
          "base_uri": "https://localhost:8080/"
        },
        "id": "qeI64rz9qPwR",
        "outputId": "a41d0878-4d38-4576-c232-7073ba801bc1"
      },
      "source": [
        "n=4\n",
        "answ= \"Y\"\n",
        "print((2<n) and (n<6))\n",
        "print((2<n) or (n==6))\n",
        "print(not(2<n) or (n==6))\n",
        "print(not(n<6))\n",
        "print((answ==\"Y\") or (answ==\"Y\"))\n",
        "print((answ==\"Y\") and (answ==\"Y\"))\n",
        "print(not(answ==\"Y\"))\n"
      ],
      "execution_count": 81,
      "outputs": [
        {
          "output_type": "stream",
          "name": "stdout",
          "text": [
            "True\n",
            "True\n",
            "False\n",
            "False\n",
            "True\n",
            "True\n",
            "False\n"
          ]
        }
      ]
    },
    {
      "cell_type": "markdown",
      "metadata": {
        "id": "EYH93bBmu1v4"
      },
      "source": [
        "## Problem Statement 3"
      ]
    },
    {
      "cell_type": "code",
      "metadata": {
        "colab": {
          "base_uri": "https://localhost:8080/"
        },
        "id": "W-U0yltFu6bX",
        "outputId": "eb1013d8-9df1-4145-a726-0be494e4b22e"
      },
      "source": [
        "x = 2\n",
        "y =-3\n",
        "w = 7\n",
        "z =-10\n",
        "print(x/y)\n",
        "print(w/y/x)\n",
        "print(z/y%x)\n",
        "print(x%-y*w)\n",
        "print(x%y)\n",
        "print(z%w-y/x*(5+5))\n",
        "print((9)-x%(2+y))\n",
        "print(z//w)\n",
        "print((2+y)**(2))\n",
        "print(w/x*(2))\n"
      ],
      "execution_count": 73,
      "outputs": [
        {
          "output_type": "stream",
          "name": "stdout",
          "text": [
            "-0.6666666666666666\n",
            "-1.1666666666666667\n",
            "1.3333333333333335\n",
            "14\n",
            "-1\n",
            "19.0\n",
            "9\n",
            "-2\n",
            "1\n",
            "7.0\n"
          ]
        }
      ]
    }
  ]
}